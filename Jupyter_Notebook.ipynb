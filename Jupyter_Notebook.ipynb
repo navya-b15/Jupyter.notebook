{
 "cells": [
  {
   "cell_type": "markdown",
   "metadata": {},
   "source": [
    "<center>\n",
    "    <img src=\"https://cf-courses-data.s3.us.cloud-object-storage.appdomain.cloud/IBMDeveloperSkillsNetwork-DS0105EN-SkillsNetwork/labs/Module2/images/SN_web_lightmode.png\" width=\"300\" alt=\"cognitiveclass.ai logo\">\n",
    "</center>\n"
   ]
  },
  {
   "cell_type": "markdown",
   "metadata": {},
   "source": [
    "#### Add your code below following the instructions given in the course\n"
   ]
  },
  {
   "cell_type": "code",
   "execution_count": 1,
   "metadata": {
    "tags": []
   },
   "outputs": [],
   "source": [
    "# Notebook Title\n"
   ]
  },
  {
   "cell_type": "code",
   "execution_count": 2,
   "metadata": {
    "tags": []
   },
   "outputs": [
    {
     "ename": "SyntaxError",
     "evalue": "invalid syntax (750419212.py, line 3)",
     "output_type": "error",
     "traceback": [
      "\u001b[0;36m  File \u001b[0;32m\"/tmp/ipykernel_69/750419212.py\"\u001b[0;36m, line \u001b[0;32m3\u001b[0m\n\u001b[0;31m    Welcome to this Jupyter Notebook! In this notebook, we will explore and analyze [briefly describe the topic or purpose of the notebook]. We'll cover key concepts, provide examples, and demonstrate various techniques to help you better understand [the subject of the notebook].\u001b[0m\n\u001b[0m             ^\u001b[0m\n\u001b[0;31mSyntaxError\u001b[0m\u001b[0;31m:\u001b[0m invalid syntax\n"
     ]
    }
   ],
   "source": [
    "# Introduction\n",
    "\n",
    "Welcome to this Jupyter Notebook! In this notebook, we will explore and analyze [briefly describe the topic or purpose of the notebook]. We'll cover key concepts, provide examples, and demonstrate various techniques to help you better understand [the subject of the notebook].\n",
    "\n",
    "Let's get started!\n"
   ]
  },
  {
   "cell_type": "markdown",
   "metadata": {
    "tags": []
   },
   "source": [
    "Welcome to this Jupyter Notebook!"
   ]
  },
  {
   "cell_type": "markdown",
   "metadata": {},
   "source": [
    "# Data Science Programming Languages\n",
    "\n",
    "In the field of data science, there are several programming languages that are commonly used for data analysis, machine learning, and statistical modeling. Some of the prominent data science languages include:\n",
    "\n",
    "1. **Python:** Python is one of the most widely used languages in data science. It has a rich ecosystem of libraries and frameworks, such as NumPy, Pandas, Matplotlib, and Scikit-Learn, that make it a powerful choice for data analysis and machine learning.\n",
    "\n",
    "2. **R:** R is a language designed specifically for statistics and data analysis. It offers a wide range of packages and tools for statistical modeling, data visualization, and data manipulation.\n",
    "\n",
    "3. **Julia:** Julia is known for its speed and performance. It's gaining popularity in data science for its ability to handle large datasets and perform complex calculations efficiently.\n",
    "\n",
    "4. **SQL (Structured Query Language):** SQL is essential for working with relational databases. Data scientists often use SQL to query, extract, and manipulate data stored in databases.\n",
    "\n",
    "5. **SAS (Statistical Analysis System):** SAS is a software suite used for advanced analytics, multivariate analysis, and data management. It's widely used in industries like healthcare and finance.\n",
    "\n",
    "6. **Scala:** Scala, along with libraries like Apache Spark, is used for distributed data processing and big data analytics.\n",
    "\n",
    "These languages are just a few examples of the many tools available to data scientists. The choice of language often depends on the specific task and the preferences of the data scientist.\n"
   ]
  },
  {
   "cell_type": "markdown",
   "metadata": {},
   "source": [
    "# Data Science Libraries\n",
    "\n",
    "### Python Libraries\n",
    "\n",
    "- NumPy\n",
    "- Pandas\n",
    "- Matplotlib\n",
    "- Seaborn\n",
    "- Scikit-Learn\n",
    "- TensorFlow\n",
    "- PyTorch\n",
    "- NLTK\n",
    "\n",
    "### R Libraries\n",
    "\n",
    "- dplyr\n",
    "- ggplot2\n",
    "- Caret\n",
    "- Tidyr\n",
    "- Quanteda\n",
    "- forecast\n"
   ]
  },
  {
   "cell_type": "markdown",
   "metadata": {},
   "source": [
    "# Data Science Tools\n",
    "\n",
    "| Category           | Tool                | Description                                   |\n",
    "|-------------------- |--------------------- |---------------------------------------------- |\n",
    "| **Programming Languages** | Python | Versatile language with extensive libraries for data science. |\n",
    "|                     | R      | Designed for statistical analysis and data visualization.  |\n",
    "|                     | Julia  | Known for its speed and performance, particularly in numerical computing.  |\n",
    "| **Data Manipulation** | Pandas   | Data manipulation and analysis library for Python.  |\n",
    "|                     | dplyr    | Data manipulation package for R.  |\n",
    "| **Data Visualization** | Matplotlib | Python library for creating static and interactive visualizations.  |\n",
    "|                       | ggplot2    | Data visualization package for R.  |\n",
    "| **Machine Learning**   | Scikit-Learn  | Python library for machine learning and predictive data analysis.  |\n",
    "|                       | Caret         | Comprehensive package for machine learning in R.  |\n",
    "| **Deep Learning**      | TensorFlow  | Open-source machine learning framework for deep learning.  |\n",
    "|                       | PyTorch     | Flexible deep learning framework developed by Facebook's AI Research.  |\n",
    "| **Natural Language Processing** | NLTK     | Natural language processing library for Python.  |\n",
    "| **Text Analysis**      | Quanteda | Text analysis package for R, including text mining and sentiment analysis.  |\n",
    "| **Time Series Forecasting** | Statsmodels | Python library for time series analysis.  |\n",
    "|                        | forecast    | R package for time series forecasting.  |\n",
    "| **Big Data Processing** | Apache Spark  | Distributed data processing framework, often used for big data analytics.  |\n",
    "| **Data Cleaning and Tidying** | Tidyr  | R package for tidying and reshaping data.  |\n",
    "\n",
    "This table provides a selection of data science tools categorized by their primary functions.\n"
   ]
  },
  {
   "cell_type": "markdown",
   "metadata": {},
   "source": [
    "# Arithmetic Expression Examples\n",
    "\n",
    "In this section, we will explore a variety of arithmetic expressions and operations. Arithmetic expressions involve basic mathematical calculations, such as addition, subtraction, multiplication, and division. These operations are fundamental in mathematics and often used in data analysis, programming, and scientific computations.\n",
    "\n",
    "Through examples, we will illustrate how to perform these operations, work with variables, and understand the order of operations (BODMAS/BIDMAS). A solid grasp of these concepts is crucial for anyone working with numerical data and calculations, whether you're a data scientist, programmer, or student.\n",
    "\n",
    "Let's begin exploring these essential arithmetic principles through practical examples.\n",
    "2+2\n"
   ]
  },
  {
   "cell_type": "code",
   "execution_count": 4,
   "metadata": {
    "tags": []
   },
   "outputs": [
    {
     "data": {
      "text/plain": [
       "4"
      ]
     },
     "execution_count": 4,
     "metadata": {},
     "output_type": "execute_result"
    }
   ],
   "source": [
    "2+2\n"
   ]
  },
  {
   "cell_type": "code",
   "execution_count": 5,
   "metadata": {
    "tags": []
   },
   "outputs": [
    {
     "name": "stdout",
     "output_type": "stream",
     "text": [
      "Multiplication Result: 15\n",
      "Addition Result: 8\n"
     ]
    }
   ],
   "source": [
    "# Define two numbers\n",
    "number1 = 5\n",
    "number2 = 3\n",
    "\n",
    "# Multiply the numbers\n",
    "result_multiply = number1 * number2\n",
    "\n",
    "# Add the numbers\n",
    "result_add = number1 + number2\n",
    "\n",
    "# Print the results\n",
    "print(\"Multiplication Result:\", result_multiply)\n",
    "print(\"Addition Result:\", result_add)\n"
   ]
  },
  {
   "cell_type": "code",
   "execution_count": 6,
   "metadata": {
    "tags": []
   },
   "outputs": [
    {
     "name": "stdout",
     "output_type": "stream",
     "text": [
      "120 minutes is equal to 2.0 hours.\n"
     ]
    }
   ],
   "source": [
    "# Define the number of minutes\n",
    "minutes = 120\n",
    "\n",
    "# Convert minutes to hours\n",
    "hours = minutes / 60\n",
    "\n",
    "# Print the result\n",
    "print(f\"{minutes} minutes is equal to {hours} hours.\")\n",
    "\n"
   ]
  },
  {
   "cell_type": "markdown",
   "metadata": {},
   "source": [
    "# Objectives\n",
    "\n",
    "In this notebook, we aim to achieve the following objectives:\n",
    "\n",
    "1. **Introduction to Arithmetic Expressions:** Provide an understanding of basic arithmetic operations, including addition, subtraction, multiplication, and division.\n",
    "\n",
    "2. **Arithmetic Examples:** Explore practical examples of arithmetic expressions to demonstrate how to perform calculations and work with numerical data.\n",
    "\n",
    "3. **Order of Operations:** Explain the order of operations (BODMAS/BIDMAS) in mathematics and how it applies to arithmetic expressions.\n",
    "\n",
    "4. **Conversion of Minutes to Hours:** Illustrate how to convert minutes into hours using simple arithmetic.\n",
    "\n",
    "By the end of this notebook, you should have a solid grasp of fundamental arithmetic concepts and be able to perform basic mathematical operations and conversions.\n"
   ]
  },
  {
   "cell_type": "markdown",
   "metadata": {},
   "source": [
    "# Author\n",
    "\n",
    "- Author: Navya Reddy"
   ]
  },
  {
   "cell_type": "code",
   "execution_count": null,
   "metadata": {},
   "outputs": [],
   "source": []
  }
 ],
 "metadata": {
  "kernelspec": {
   "display_name": "Python",
   "language": "python",
   "name": "conda-env-python-py"
  },
  "language_info": {
   "codemirror_mode": {
    "name": "ipython",
    "version": 3
   },
   "file_extension": ".py",
   "mimetype": "text/x-python",
   "name": "python",
   "nbconvert_exporter": "python",
   "pygments_lexer": "ipython3",
   "version": "3.7.12"
  }
 },
 "nbformat": 4,
 "nbformat_minor": 4
}
